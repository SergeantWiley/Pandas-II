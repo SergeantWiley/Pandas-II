{
 "cells": [
  {
   "cell_type": "markdown",
   "metadata": {},
   "source": [
    "# AirBnB NY Locations Data Case Study\n",
    "\n",
    "In this final project, you task will be to take the data provided and find evidance to answer the following questions.\n",
    "\n",
    "1. Which hosts are the busiest and why?\n",
    "2. How many neighborhood groups are available and which shows up the most?\n",
    "3. Are private rooms the most popular in manhattan?\n",
    "4. Which hosts are the busiest and based on their reviews?\n",
    "5. Which neighorhood group has the highest average price?\n",
    "6. Which neighborhood group has the highest total price?\n",
    "7. Which top 5 hosts have the highest total price?\n",
    "8. Who currently has no (zero) availability with a review count of 100 or more?\n",
    "9. What host has the highest total of prices and where are they located?\n",
    "10. When did Danielle from Queens last receive a review?\n",
    "\n",
    "You will be given **4 hours** to complete this assignment. \n",
    "**Be Advised** I will go dark for this intire assignment time period. That said, any questions that you would like to ask about the data, or the project **MUST** be asked before the time starts. Once the time has started, I can no longer give information.\n",
    "\n",
    "This is to similate what you will face when you are out in the wild. \n",
    "\n",
    "Happy Coding!"
   ]
  },
  {
   "cell_type": "code",
   "execution_count": 2,
   "metadata": {},
   "outputs": [],
   "source": [
    "import numpy as np\n",
    "import pandas as pd\n",
    "import matplotlib.pyplot as plt"
   ]
  },
  {
   "cell_type": "code",
   "execution_count": 3,
   "metadata": {},
   "outputs": [
    {
     "data": {
      "text/html": [
       "<div>\n",
       "<style scoped>\n",
       "    .dataframe tbody tr th:only-of-type {\n",
       "        vertical-align: middle;\n",
       "    }\n",
       "\n",
       "    .dataframe tbody tr th {\n",
       "        vertical-align: top;\n",
       "    }\n",
       "\n",
       "    .dataframe thead th {\n",
       "        text-align: right;\n",
       "    }\n",
       "</style>\n",
       "<table border=\"1\" class=\"dataframe\">\n",
       "  <thead>\n",
       "    <tr style=\"text-align: right;\">\n",
       "      <th></th>\n",
       "      <th>id</th>\n",
       "      <th>name</th>\n",
       "      <th>host_id</th>\n",
       "      <th>host_name</th>\n",
       "      <th>neighbourhood_group</th>\n",
       "      <th>neighbourhood</th>\n",
       "      <th>latitude</th>\n",
       "      <th>longitude</th>\n",
       "      <th>room_type</th>\n",
       "      <th>price</th>\n",
       "      <th>minimum_nights</th>\n",
       "      <th>number_of_reviews</th>\n",
       "      <th>last_review</th>\n",
       "      <th>reviews_per_month</th>\n",
       "      <th>calculated_host_listings_count</th>\n",
       "      <th>availability_365</th>\n",
       "    </tr>\n",
       "  </thead>\n",
       "  <tbody>\n",
       "    <tr>\n",
       "      <th>0</th>\n",
       "      <td>2539</td>\n",
       "      <td>Clean &amp; quiet apt home by the park</td>\n",
       "      <td>2787</td>\n",
       "      <td>John</td>\n",
       "      <td>Brooklyn</td>\n",
       "      <td>Kensington</td>\n",
       "      <td>40.64749</td>\n",
       "      <td>-73.97237</td>\n",
       "      <td>Private room</td>\n",
       "      <td>149</td>\n",
       "      <td>1</td>\n",
       "      <td>9</td>\n",
       "      <td>2018-10-19</td>\n",
       "      <td>0.21</td>\n",
       "      <td>6</td>\n",
       "      <td>365</td>\n",
       "    </tr>\n",
       "    <tr>\n",
       "      <th>1</th>\n",
       "      <td>2595</td>\n",
       "      <td>Skylit Midtown Castle</td>\n",
       "      <td>2845</td>\n",
       "      <td>Jennifer</td>\n",
       "      <td>Manhattan</td>\n",
       "      <td>Midtown</td>\n",
       "      <td>40.75362</td>\n",
       "      <td>-73.98377</td>\n",
       "      <td>Entire home/apt</td>\n",
       "      <td>225</td>\n",
       "      <td>1</td>\n",
       "      <td>45</td>\n",
       "      <td>2019-05-21</td>\n",
       "      <td>0.38</td>\n",
       "      <td>2</td>\n",
       "      <td>355</td>\n",
       "    </tr>\n",
       "    <tr>\n",
       "      <th>2</th>\n",
       "      <td>3647</td>\n",
       "      <td>THE VILLAGE OF HARLEM....NEW YORK !</td>\n",
       "      <td>4632</td>\n",
       "      <td>Elisabeth</td>\n",
       "      <td>Manhattan</td>\n",
       "      <td>Harlem</td>\n",
       "      <td>40.80902</td>\n",
       "      <td>-73.94190</td>\n",
       "      <td>Private room</td>\n",
       "      <td>150</td>\n",
       "      <td>3</td>\n",
       "      <td>0</td>\n",
       "      <td>NaN</td>\n",
       "      <td>NaN</td>\n",
       "      <td>1</td>\n",
       "      <td>365</td>\n",
       "    </tr>\n",
       "    <tr>\n",
       "      <th>3</th>\n",
       "      <td>3831</td>\n",
       "      <td>Cozy Entire Floor of Brownstone</td>\n",
       "      <td>4869</td>\n",
       "      <td>LisaRoxanne</td>\n",
       "      <td>Brooklyn</td>\n",
       "      <td>Clinton Hill</td>\n",
       "      <td>40.68514</td>\n",
       "      <td>-73.95976</td>\n",
       "      <td>Entire home/apt</td>\n",
       "      <td>89</td>\n",
       "      <td>1</td>\n",
       "      <td>270</td>\n",
       "      <td>2019-07-05</td>\n",
       "      <td>4.64</td>\n",
       "      <td>1</td>\n",
       "      <td>194</td>\n",
       "    </tr>\n",
       "    <tr>\n",
       "      <th>4</th>\n",
       "      <td>5022</td>\n",
       "      <td>Entire Apt: Spacious Studio/Loft by central park</td>\n",
       "      <td>7192</td>\n",
       "      <td>Laura</td>\n",
       "      <td>Manhattan</td>\n",
       "      <td>East Harlem</td>\n",
       "      <td>40.79851</td>\n",
       "      <td>-73.94399</td>\n",
       "      <td>Entire home/apt</td>\n",
       "      <td>80</td>\n",
       "      <td>10</td>\n",
       "      <td>9</td>\n",
       "      <td>2018-11-19</td>\n",
       "      <td>0.10</td>\n",
       "      <td>1</td>\n",
       "      <td>0</td>\n",
       "    </tr>\n",
       "  </tbody>\n",
       "</table>\n",
       "</div>"
      ],
      "text/plain": [
       "     id                                              name  host_id  \\\n",
       "0  2539                Clean & quiet apt home by the park     2787   \n",
       "1  2595                             Skylit Midtown Castle     2845   \n",
       "2  3647               THE VILLAGE OF HARLEM....NEW YORK !     4632   \n",
       "3  3831                   Cozy Entire Floor of Brownstone     4869   \n",
       "4  5022  Entire Apt: Spacious Studio/Loft by central park     7192   \n",
       "\n",
       "     host_name neighbourhood_group neighbourhood  latitude  longitude  \\\n",
       "0         John            Brooklyn    Kensington  40.64749  -73.97237   \n",
       "1     Jennifer           Manhattan       Midtown  40.75362  -73.98377   \n",
       "2    Elisabeth           Manhattan        Harlem  40.80902  -73.94190   \n",
       "3  LisaRoxanne            Brooklyn  Clinton Hill  40.68514  -73.95976   \n",
       "4        Laura           Manhattan   East Harlem  40.79851  -73.94399   \n",
       "\n",
       "         room_type  price  minimum_nights  number_of_reviews last_review  \\\n",
       "0     Private room    149               1                  9  2018-10-19   \n",
       "1  Entire home/apt    225               1                 45  2019-05-21   \n",
       "2     Private room    150               3                  0         NaN   \n",
       "3  Entire home/apt     89               1                270  2019-07-05   \n",
       "4  Entire home/apt     80              10                  9  2018-11-19   \n",
       "\n",
       "   reviews_per_month  calculated_host_listings_count  availability_365  \n",
       "0               0.21                               6               365  \n",
       "1               0.38                               2               355  \n",
       "2                NaN                               1               365  \n",
       "3               4.64                               1               194  \n",
       "4               0.10                               1                 0  "
      ]
     },
     "execution_count": 3,
     "metadata": {},
     "output_type": "execute_result"
    }
   ],
   "source": [
    "df = pd.read_csv('AB_NYC_2019.csv')\n",
    "df.head()"
   ]
  },
  {
   "cell_type": "code",
   "execution_count": 42,
   "metadata": {},
   "outputs": [
    {
     "name": "stdout",
     "output_type": "stream",
     "text": [
      "5 Total Unique neighbourhoods\n",
      "Manhattan Shows up the most\n"
     ]
    }
   ],
   "source": [
    "# How many neighborhood groups are available and which shows up the most?\n",
    "nh_count = df['neighbourhood_group'].nunique()\n",
    "most_common_nh = df['neighbourhood_group'].value_counts().idxmax(0)\n",
    "print(nh_count, \"Total Unique neighbourhoods\")\n",
    "print(most_common_nh, \"Shows up the most\")"
   ]
  },
  {
   "cell_type": "code",
   "execution_count": 43,
   "metadata": {},
   "outputs": [
    {
     "name": "stdout",
     "output_type": "stream",
     "text": [
      "Private rooms are not the largest or most common\n",
      "room_type\n",
      "Entire home/apt    13199\n",
      "Private room        7982\n",
      "Shared room          480\n",
      "Name: count, dtype: int64\n"
     ]
    }
   ],
   "source": [
    "# Are private rooms the most popular in manhattan?\n",
    "private_rooms = ((df['room_type'] == 'Private room') & (df['neighbourhood_group'] == 'Manhattan')).sum()\n",
    "shared_rooms = ((df['room_type'] == 'Shared room') & (df['neighbourhood_group'] == 'Manhattan')).sum()\n",
    "entire_rooms = ((df['room_type'] == 'Entire home/apt') & (df['neighbourhood_group'] == 'Manhattan')).sum()\n",
    "if private_rooms > shared_rooms and private_rooms > entire_rooms:\n",
    "    print(\"Private rooms are the most common in Manhattan at a count of\", private_rooms)\n",
    "else:\n",
    "    print(\"Private rooms are not the largest or most common\")\n",
    "\n",
    "count = df[df['neighbourhood_group'] == 'Manhattan']\n",
    "print(count['room_type'].value_counts())"
   ]
  },
  {
   "cell_type": "code",
   "execution_count": 66,
   "metadata": {},
   "outputs": [
    {
     "name": "stdout",
     "output_type": "stream",
     "text": [
      "Row NYC really do got the most reviews\n"
     ]
    }
   ],
   "source": [
    "# Which hosts are the busiest and based on their reviews?\n",
    "hosts = df['host_name']\n",
    "review_count = df['reviews_per_month'].idxmax()\n",
    "print(df['host_name'].iloc[review_count], \"really do got the most reviews\")"
   ]
  },
  {
   "cell_type": "code",
   "execution_count": 44,
   "metadata": {},
   "outputs": [
    {
     "name": "stdout",
     "output_type": "stream",
     "text": [
      "neighbourhood_group\n",
      "Bronx             87.496792\n",
      "Brooklyn         124.383207\n",
      "Manhattan        196.875814\n",
      "Queens            99.517649\n",
      "Staten Island    114.812332\n",
      "Name: price, dtype: float64\n",
      "Manhattan Has the adverage highest price\n"
     ]
    }
   ],
   "source": [
    "#Which neighorhood group has the highest average price?\n",
    "groups = df['neighbourhood_group'].value_counts()\n",
    "groups_average = df.groupby('neighbourhood_group')['price'].mean()\n",
    "print(groups_average)\n",
    "print(groups_average.idxmax(), \"has the adverage highest price\")"
   ]
  },
  {
   "cell_type": "code",
   "execution_count": 45,
   "metadata": {},
   "outputs": [
    {
     "name": "stdout",
     "output_type": "stream",
     "text": [
      "neighbourhood_group\n",
      "Bronx              95459\n",
      "Brooklyn         2500600\n",
      "Manhattan        4264527\n",
      "Queens            563867\n",
      "Staten Island      42825\n",
      "Name: price, dtype: int64\n",
      "Manhattan Has the highest price\n"
     ]
    }
   ],
   "source": [
    "# Which neighbor hood group has the highest total price?\n",
    "groups_average = df.groupby('neighbourhood_group')['price'].sum()\n",
    "print(groups_average)\n",
    "print(groups_average.idxmax(), \"has the highest price\")"
   ]
  },
  {
   "cell_type": "code",
   "execution_count": 47,
   "metadata": {},
   "outputs": [
    {
     "name": "stdout",
     "output_type": "stream",
     "text": [
      "host_name\n",
      "Sonder (NYC)    82795\n",
      "Blueground      70331\n",
      "Michael         66895\n",
      "David           65844\n",
      "Alex            52563\n",
      "Name: price, dtype: int64 are the top 5\n"
     ]
    }
   ],
   "source": [
    "#Which top 5 hosts have the highest total price?\n",
    "groups_average = df.groupby('host_name')['price'].sum()\n",
    "print(groups_average.nlargest(5), \"are the top 5\")"
   ]
  },
  {
   "cell_type": "code",
   "execution_count": 48,
   "metadata": {},
   "outputs": [
    {
     "name": "stdout",
     "output_type": "stream",
     "text": [
      "MaryEllen\n"
     ]
    }
   ],
   "source": [
    "# Who currently has no (zero) availability with a review count of 100 or more?\n",
    "\n",
    "hosts = ((df['availability_365'] == 0) & (df['number_of_reviews'] >= 100)).idxmax()\n",
    "print(df['host_name'].iloc[hosts])"
   ]
  },
  {
   "cell_type": "code",
   "execution_count": 49,
   "metadata": {},
   "outputs": [
    {
     "name": "stdout",
     "output_type": "stream",
     "text": [
      "host_name              Sonder (NYC)\n",
      "neighbourhood    Financial District\n",
      "price                         57738\n",
      "Name: 25263, dtype: object\n"
     ]
    }
   ],
   "source": [
    "# What host has the highest total of prices and where are they located?\n",
    "prices = df.groupby(['host_name','neighbourhood'])['price'].sum().reset_index()\n",
    "index = prices['price'].idxmax()\n",
    "print(prices.loc[index])"
   ]
  },
  {
   "cell_type": "code",
   "execution_count": 51,
   "metadata": {},
   "outputs": [
    {
     "name": "stdout",
     "output_type": "stream",
     "text": [
      "host_name              Danielle\n",
      "neighbourhood_group      Queens\n",
      "last_review                 NaT\n",
      "Name: 16349, dtype: object \n",
      "\n",
      "host_name                         Danielle\n",
      "neighbourhood_group                 Queens\n",
      "last_review            2019-07-08 00:00:00\n",
      "Name: 22469, dtype: object\n"
     ]
    }
   ],
   "source": [
    "# When did Danielle from Queens last receive a review?\n",
    "sub_data = df[['host_name','neighbourhood_group','last_review']]\n",
    "sub_data = sub_data[(sub_data['host_name'] == \"Danielle\") & (sub_data['neighbourhood_group']== \"Queens\")]\n",
    "sub_data['last_review'] = pd.to_datetime(sub_data['last_review'])\n",
    "sub_data = sub_data.sort_values(by='last_review')\n",
    "print(sub_data.iloc[-1],\"\\n\") # Returns NaT but -2 works \n",
    "print(sub_data.iloc[-2]) # Above retunrs NaT but just incase, I included the second last review"
   ]
  },
  {
   "cell_type": "markdown",
   "metadata": {},
   "source": [
    "## Further Questions\n",
    "\n",
    "1. Which host has the most listings?"
   ]
  },
  {
   "cell_type": "code",
   "execution_count": 41,
   "metadata": {},
   "outputs": [
    {
     "name": "stdout",
     "output_type": "stream",
     "text": [
      "Michael has the most listings\n",
      "host_name\n",
      "Michael              417\n",
      "David                403\n",
      "Sonder (NYC)         327\n",
      "John                 294\n",
      "Alex                 279\n",
      "                    ... \n",
      "Rhonycs                1\n",
      "Brandy-Courtney        1\n",
      "Shanthony              1\n",
      "Aurore And Jamila      1\n",
      "Ilgar & Aysel          1\n",
      "Name: count, Length: 11452, dtype: int64\n"
     ]
    }
   ],
   "source": [
    "host_count = df['host_name'].value_counts()\n",
    "index = host_count.idxmax()\n",
    "print(index, \"has the most listings\")\n",
    "print(host_count)"
   ]
  },
  {
   "cell_type": "markdown",
   "metadata": {},
   "source": [
    "2. How many listings have completely open availability?"
   ]
  },
  {
   "cell_type": "code",
   "execution_count": 12,
   "metadata": {},
   "outputs": [
    {
     "name": "stdout",
     "output_type": "stream",
     "text": [
      "1295 Total listings that have been open 365 days of the year\n"
     ]
    }
   ],
   "source": [
    "sub_data = df[df['availability_365'] == 365]\n",
    "print(sub_data['availability_365'].count(), \"Total listings that have been open 365 days of the year\")"
   ]
  },
  {
   "cell_type": "markdown",
   "metadata": {},
   "source": [
    "3. What room_types have the highest review numbers?"
   ]
  },
  {
   "cell_type": "code",
   "execution_count": 55,
   "metadata": {},
   "outputs": [
    {
     "name": "stdout",
     "output_type": "stream",
     "text": [
      "Entire home/apt\n",
      "room_type\n",
      "Entire home/apt    580403\n",
      "Private room       538346\n",
      "Shared room         19256\n",
      "Name: number_of_reviews, dtype: int64\n"
     ]
    }
   ],
   "source": [
    "unqiue_rooms = df.groupby('room_type')['number_of_reviews'].sum()\n",
    "print(unqiue_rooms.idxmax(), \"has the most common\")\n",
    "print(unqiue_rooms)"
   ]
  },
  {
   "cell_type": "markdown",
   "metadata": {},
   "source": [
    "# Final Conclusion\n",
    "\n",
    "In this cell, write your final conclusion for each of the questions asked.\n",
    "\n",
    "Also, if you uncovered some more details that were not asked above, please discribe them here.\n",
    "\n",
    "-- Add your conclusion --"
   ]
  },
  {
   "cell_type": "markdown",
   "metadata": {},
   "source": [
    "## Seems pretty choatic house market. \n",
    "## Probably why its so expensive to own a house in NYC\n",
    "## All of them are being rented out\n",
    "## Im not a real estate agent but sounds like a pretty good business model\n"
   ]
  }
 ],
 "metadata": {
  "kernelspec": {
   "display_name": "Python 3 (ipykernel)",
   "language": "python",
   "name": "python3"
  },
  "language_info": {
   "codemirror_mode": {
    "name": "ipython",
    "version": 3
   },
   "file_extension": ".py",
   "mimetype": "text/x-python",
   "name": "python",
   "nbconvert_exporter": "python",
   "pygments_lexer": "ipython3",
   "version": "3.11.5"
  }
 },
 "nbformat": 4,
 "nbformat_minor": 2
}
